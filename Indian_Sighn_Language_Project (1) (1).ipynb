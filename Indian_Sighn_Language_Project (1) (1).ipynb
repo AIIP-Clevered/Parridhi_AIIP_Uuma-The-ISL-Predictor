{
  "cells": [
    {
      "cell_type": "code",
      "execution_count": 2,
      "metadata": {
        "colab": {
          "base_uri": "https://localhost:8080/"
        },
        "id": "tdYQPCGCIZbC",
        "outputId": "064aa549-dae4-4f22-a3f2-8b5433602c30"
      },
      "outputs": [
        {
          "metadata": {
            "tags": null
          },
          "name": "stdout",
          "output_type": "stream",
          "text": [
            "--2024-04-23 17:15:57--  https://confrecordings.ams3.cdn.digitaloceanspaces.com/Internship/Indian.zip\n",
            "Resolving confrecordings.ams3.cdn.digitaloceanspaces.com (confrecordings.ams3.cdn.digitaloceanspaces.com)... 172.64.145.29, 104.18.42.227, 2606:4700:4400::6812:2ae3, ...\n",
            "Connecting to confrecordings.ams3.cdn.digitaloceanspaces.com (confrecordings.ams3.cdn.digitaloceanspaces.com)|172.64.145.29|:443... connected.\n",
            "HTTP request sent, awaiting response... 200 OK\n",
            "Cookie coming from confrecordings.ams3.cdn.digitaloceanspaces.com attempted to set domain to digitaloceanspaces.com\n",
            "Length: 292770262 (279M) [application/x-zip-compressed]\n",
            "Saving to: ‘Indian.zip.3’\n",
            "\n",
            "Indian.zip.3        100%[===================>] 279.21M  18.7MB/s    in 5.6s    \n",
            "\n",
            "2024-04-23 17:16:02 (49.7 MB/s) - ‘Indian.zip.3’ saved [292770262/292770262]\n",
            "\n",
            "Archive:  Indian.zip\n",
            "replace Indian/1/0.jpg? [y]es, [n]o, [A]ll, [N]one, [r]ename: "
          ]
        }
      ],
      "source": [
        "# Download the zip file\n",
        "!wget https://confrecordings.ams3.cdn.digitaloceanspaces.com/Internship/Indian.zip\n",
        "\n",
        "# Unzip the downloaded file\n",
        "!unzip Indian.zip"
      ]
    },
    {
      "cell_type": "code",
      "execution_count": 33,
      "metadata": {
        "id": "CAFcmx47I_QK"
      },
      "outputs": [],
      "source": [
        "import numpy as np\n",
        "import pandas as pd\n",
        "import os\n",
        "import seaborn as sns\n",
        "import matplotlib.pyplot as plt\n",
        "%matplotlib inline\n",
        "import cv2\n",
        "from sklearn.metrics import accuracy_score,precision_score,recall_score,confusion_matrix,roc_curve,roc_auc_score\n",
        "from sklearn.model_selection import train_test_split\n",
        "import tensorflow as tf\n",
        "from tensorflow import keras\n",
        "from keras import utils, callbacks\n",
        "from tensorflow.keras import utils\n",
        "from tensorflow.keras.models import Sequential\n",
        "from tensorflow.keras import layers, models\n",
        "from keras.layers import Flatten, Dense, Dropout\n",
        "from tensorflow.keras.optimizers import Adam\n",
        "from keras.losses import CategoricalCrossentropy\n",
        "import tensorflow as tf\n",
        "from tensorflow.keras.preprocessing.image import ImageDataGenerator\n",
        "from sklearn import metrics\n",
        "from tensorflow.keras.preprocessing import image\n",
        "from tensorflow.keras.preprocessing.image import load_img, img_to_array, array_to_img\n",
        "from tensorflow.keras.utils import to_categorical\n",
        "from sklearn.model_selection import train_test_split\n",
        "from glob import glob\n",
        "import sklearn\n"
      ]
    },
    {
      "cell_type": "code",
      "execution_count": 32,
      "metadata": {
        "id": "pJiOSDpxJNSM"
      },
      "outputs": [],
      "source": [
        "train_folder = '/content/Indian/'\n",
        "def load_images():\n",
        "  images = []\n",
        "  labels = []\n",
        "  index = -1\n",
        "  folders = sorted(os.listdir(train_folder))\n",
        "  for folder in folders:\n",
        "    index += 1\n",
        "    print(\"Loading images from folder \", folder ,\" has started.\")\n",
        "    for image in os.listdir(train_folder + '/' + folder):\n",
        "      img = cv2.imread(train_folder + '/' + folder + '/' + image, 0)\n",
        "      img = edge_detection(img)\n",
        "      img = cv2.resize(img, (64, 64))\n",
        "      img = img_to_array(img)\n",
        "      images.append(img)\n",
        "      labels.append(index)\n",
        "  images = np.array(images)\n",
        "  images = images.astype('float32')/255.0\n",
        "  labels = to_categorical(labels)\n",
        "\n",
        "  x_train, x_test, y_train, y_test = train_test_split(images, labels, test_size=0.1)\n",
        "\n",
        "  return x_train, x_test, y_train, y_test\n",
        "\n",
        "\n",
        "def edge_detection(image):\n",
        "  minValue = 70\n",
        "  blur = cv2.GaussianBlur(image,(5,5),2)\n",
        "  th3 = cv2.adaptiveThreshold(blur,255,cv2.ADAPTIVE_THRESH_GAUSSIAN_C,cv2.THRESH_BINARY_INV,11,2)\n",
        "  ret, res = cv2.threshold(th3, minValue, 255, cv2.THRESH_BINARY_INV+cv2.THRESH_OTSU)\n",
        "  return res\n",
        "\n"
      ]
    },
    {
      "cell_type": "code",
      "execution_count": 31,
      "metadata": {
        "colab": {
          "base_uri": "https://localhost:8080/"
        },
        "id": "zf48YZl1Nlkg",
        "outputId": "b21843fe-5c43-4c76-a3e7-405f2bf5975a"
      },
      "outputs": [
        {
          "output_type": "stream",
          "name": "stdout",
          "text": [
            "Loading images from folder  1  has started.\n",
            "Loading images from folder  2  has started.\n",
            "Loading images from folder  3  has started.\n",
            "Loading images from folder  4  has started.\n",
            "Loading images from folder  5  has started.\n",
            "Loading images from folder  6  has started.\n",
            "Loading images from folder  7  has started.\n",
            "Loading images from folder  8  has started.\n",
            "Loading images from folder  9  has started.\n",
            "Loading images from folder  A  has started.\n",
            "Loading images from folder  B  has started.\n",
            "Loading images from folder  C  has started.\n",
            "Loading images from folder  D  has started.\n",
            "Loading images from folder  E  has started.\n",
            "Loading images from folder  F  has started.\n",
            "Loading images from folder  G  has started.\n",
            "Loading images from folder  H  has started.\n",
            "Loading images from folder  I  has started.\n",
            "Loading images from folder  J  has started.\n",
            "Loading images from folder  K  has started.\n",
            "Loading images from folder  L  has started.\n",
            "Loading images from folder  M  has started.\n",
            "Loading images from folder  N  has started.\n",
            "Loading images from folder  O  has started.\n",
            "Loading images from folder  P  has started.\n",
            "Loading images from folder  Q  has started.\n",
            "Loading images from folder  R  has started.\n",
            "Loading images from folder  S  has started.\n",
            "Loading images from folder  T  has started.\n",
            "Loading images from folder  U  has started.\n",
            "Loading images from folder  V  has started.\n",
            "Loading images from folder  W  has started.\n",
            "Loading images from folder  X  has started.\n",
            "Loading images from folder  Y  has started.\n",
            "Loading images from folder  Z  has started.\n"
          ]
        }
      ],
      "source": [
        "x_train, x_test, y_train, y_test = load_images()"
      ]
    },
    {
      "cell_type": "code",
      "execution_count": 30,
      "metadata": {
        "id": "HNrM6v9ePD8l"
      },
      "outputs": [],
      "source": [
        "from sklearn.utils import shuffle\n",
        "x_train, y_train = shuffle(x_train, y_train, random_state=13)\n",
        "x_test, y_test = shuffle(x_test, y_test, random_state=13)"
      ]
    },
    {
      "cell_type": "code",
      "execution_count": 29,
      "metadata": {
        "id": "XXR8wePdP-cx",
        "colab": {
          "base_uri": "https://localhost:8080/"
        },
        "outputId": "685f0c32-89db-4c32-e044-75b991a4cd7d"
      },
      "outputs": [
        {
          "output_type": "stream",
          "name": "stdout",
          "text": [
            "Model: \"sequential_1\"\n",
            "_________________________________________________________________\n",
            " Layer (type)                Output Shape              Param #   \n",
            "=================================================================\n",
            " conv2d_3 (Conv2D)           (None, 62, 62, 32)        320       \n",
            "                                                                 \n",
            " max_pooling2d_3 (MaxPoolin  (None, 31, 31, 32)        0         \n",
            " g2D)                                                            \n",
            "                                                                 \n",
            " conv2d_4 (Conv2D)           (None, 29, 29, 64)        18496     \n",
            "                                                                 \n",
            " max_pooling2d_4 (MaxPoolin  (None, 14, 14, 64)        0         \n",
            " g2D)                                                            \n",
            "                                                                 \n",
            " conv2d_5 (Conv2D)           (None, 12, 12, 64)        36928     \n",
            "                                                                 \n",
            " max_pooling2d_5 (MaxPoolin  (None, 6, 6, 64)          0         \n",
            " g2D)                                                            \n",
            "                                                                 \n",
            " flatten_1 (Flatten)         (None, 2304)              0         \n",
            "                                                                 \n",
            " dense_2 (Dense)             (None, 128)               295040    \n",
            "                                                                 \n",
            " dense_3 (Dense)             (None, 35)                4515      \n",
            "                                                                 \n",
            "=================================================================\n",
            "Total params: 355299 (1.36 MB)\n",
            "Trainable params: 355299 (1.36 MB)\n",
            "Non-trainable params: 0 (0.00 Byte)\n",
            "_________________________________________________________________\n"
          ]
        }
      ],
      "source": [
        "model = Sequential([\n",
        "layers.Conv2D(32, (3, 3), activation='relu', input_shape=(64, 64, 1)),\n",
        "layers.MaxPool2D((2, 2)),\n",
        "layers.Conv2D(64, (3, 3), activation='relu'),\n",
        "layers.MaxPool2D((2, 2)),\n",
        "layers.Conv2D(64, (3, 3), activation='relu'),\n",
        "layers.MaxPool2D((2, 2)),\n",
        "layers.Flatten(),\n",
        "layers.Dense(128, activation='relu'),\n",
        "layers.Dense(35, activation='softmax')\n",
        "])\n",
        "model.summary()\n",
        "\n"
      ]
    },
    {
      "cell_type": "code",
      "execution_count": 28,
      "metadata": {
        "id": "SMg8DKWrQXNs"
      },
      "outputs": [],
      "source": [
        "map_characters = {0: '1', 1: '2', 2: '3', 3: '4', 4: '5', 5: '6', 6: '7', 7: '8', 8: '9', 9: 'A', 10: 'B', 11: 'C', 12: 'D',\n",
        "13: 'E', 14: 'F', 15: 'G', 16: 'H', 17: 'I', 18: 'J', 19: 'K', 20: 'L', 21: 'M', 22: 'N', 23: 'O', 24: 'P',\n",
        "25: 'Q', 26: 'R', 27: 'S', 28: 'T', 29: 'U', 30: 'V', 31: 'W', 32: 'X', 33: 'Y', 34: 'Z'}"
      ]
    },
    {
      "cell_type": "code",
      "execution_count": 27,
      "metadata": {
        "id": "qUGqfNCKQonI",
        "colab": {
          "base_uri": "https://localhost:8080/"
        },
        "outputId": "a5921844-23d5-4278-eebf-3498ff89d340"
      },
      "outputs": [
        {
          "output_type": "stream",
          "name": "stderr",
          "text": [
            "WARNING:absl:`lr` is deprecated in Keras optimizer, please use `learning_rate` or use the legacy optimizer, e.g.,tf.keras.optimizers.legacy.Adam.\n"
          ]
        },
        {
          "output_type": "stream",
          "name": "stdout",
          "text": [
            "Epoch 1/3\n",
            "1203/1203 [==============================] - 9s 6ms/step - loss: 0.0030 - accuracy: 0.9994 - val_loss: 7.0528e-05 - val_accuracy: 1.0000\n",
            "Epoch 2/3\n",
            "1203/1203 [==============================] - 7s 6ms/step - loss: 5.0541e-06 - accuracy: 1.0000 - val_loss: 9.3987e-07 - val_accuracy: 1.0000\n",
            "Epoch 3/3\n",
            "1203/1203 [==============================] - 7s 6ms/step - loss: 3.2319e-07 - accuracy: 1.0000 - val_loss: 8.1157e-07 - val_accuracy: 1.0000\n"
          ]
        }
      ],
      "source": [
        "classes = 35\n",
        "epochs = 3\n",
        "learning_rate = 0.0001\n",
        "\n",
        "adam = Adam(lr=learning_rate)\n",
        "model.compile(optimizer=adam, loss='categorical_crossentropy', metrics=['accuracy'])\n",
        "history = model.fit(x_train, y_train,\n",
        "epochs=epochs,\n",
        "verbose=1,\n",
        "validation_data=(x_test, y_test), shuffle=True)"
      ]
    },
    {
      "cell_type": "code",
      "execution_count": 26,
      "metadata": {
        "id": "5eDm207zRDUE"
      },
      "outputs": [],
      "source": [
        "model.save(\"Indian_sign_language.h5\")"
      ]
    },
    {
      "cell_type": "code",
      "execution_count": 22,
      "metadata": {
        "id": "CEtxi-Z3RVTv",
        "colab": {
          "base_uri": "https://localhost:8080/",
          "height": 473
        },
        "outputId": "b5f3fcba-55b2-4922-97dd-05f682b3a055"
      },
      "outputs": [
        {
          "output_type": "display_data",
          "data": {
            "text/plain": [
              "<Figure size 1400x700 with 1 Axes>"
            ],
            "image/png": "[encoded data removed]"
          },
          "metadata": {}
        }
      ],
      "source": [
        "acc=history.history['accuracy']\n",
        "val_acc=history.history['val_accuracy']\n",
        "loss=history.history['loss']\n",
        "val_loss=history.history['val_loss']\n",
        "\n",
        "epochs=range(len(acc))\n",
        "\n",
        "fig = plt.figure(figsize=(14,7))\n",
        "plt.plot(epochs, acc, 'r', label=\"Training Accuracy\")\n",
        "plt.plot(epochs, val_acc, 'b', label=\"Validation Accuracy\")\n",
        "plt.xlabel('Epoch')\n",
        "plt.ylabel('Accuracy')\n",
        "plt.title('Training and validation accuracy')\n",
        "plt.legend(loc='lower right')\n",
        "plt.show()"
      ]
    },
    {
      "cell_type": "code",
      "execution_count": 23,
      "metadata": {
        "id": "1w77QssaRvFi",
        "colab": {
          "base_uri": "https://localhost:8080/",
          "height": 501
        },
        "outputId": "be50b7ab-4c5e-475e-dfce-be54b01f19fc"
      },
      "outputs": [
        {
          "output_type": "stream",
          "name": "stdout",
          "text": [
            "(128, 128)\n",
            "(64, 64)\n",
            "1/1 [==============================] - 0s 18ms/step\n",
            "4\n"
          ]
        },
        {
          "output_type": "display_data",
          "data": {
            "text/plain": [
              "<Figure size 640x480 with 1 Axes>"
            ],
            "image/png": "[encoded data removed]"
          },
          "metadata": {}
        }
      ],
      "source": [
        "class_labels = list(map_characters.values())\n",
        "filename='Indian/4/1.jpg'\n",
        "img = cv2.imread(filename,0)\n",
        "print(img.shape)\n",
        "img = edge_detection(img)\n",
        "img = cv2.resize(img, (64, 64))\n",
        "print(img.shape)\n",
        "img = img_to_array(img)\n",
        "plt.imshow(img)\n",
        "\n",
        "p = img.reshape(1, 64, 64, 1)\n",
        "\n",
        "predicted_label = class_labels[model.predict(p).argmax()]\n",
        "print(predicted_label)"
      ]
    },
    {
      "cell_type": "code",
      "execution_count": 24,
      "metadata": {
        "id": "OBRAaOzMSRT5"
      },
      "outputs": [],
      "source": [
        "import ipywidgets as widgets\n",
        "from IPython.display import display, Markdown\n",
        "import io\n",
        "from PIL import Image\n",
        "import cv2\n",
        "import numpy as np\n",
        "import matplotlib.pyplot as plt\n",
        "\n",
        "# Create UI elements\n",
        "project_name = Markdown('# Uuma: The ISL Predictor')\n",
        "up_btn = Markdown('## Please upload the hand sign image using the upload button')\n",
        "upload_button = widgets.FileUpload(description='Upload Sign Image')\n",
        "cl_btn = Markdown('## Please click on the submit button')\n",
        "submit_button = widgets.Button(description='Check')\n",
        "output = widgets.Output()\n",
        "\n",
        "# Define submit button click event handler\n",
        "def on_submit_button_click(button):\n",
        "  with output:\n",
        "    if upload_button.value:\n",
        "      uploaded_files = list(upload_button.value.values())\n",
        "      if uploaded_files:\n",
        "        image_bytes = uploaded_files[0]['content']\n",
        "        image = Image.open(io.BytesIO(image_bytes))\n",
        "        img = cv2.cvtColor(np.array(image), cv2.COLOR_RGB2GRAY)\n",
        "        img = edge_detection(img)\n",
        "        img = cv2.resize(img, (64, 64))\n",
        "        img = img / 255.0\n",
        "        plt.imshow(img, cmap='gray')\n",
        "        p = img.reshape(1, 64, 64, 1)\n",
        "        predicted_label = class_labels[model.predict(p).argmax()] # Replace with your class_labels\n",
        "        print('Predicted label:', predicted_label)\n",
        "\n",
        "        if predicted_label=='1':\n",
        "          print('This is Number One.')\n",
        "\n",
        "\n",
        "        elif predicted_label=='2':\n",
        "          print('This is Number Two.')\n",
        "\n",
        "        elif predicted_label=='3':\n",
        "          print('This is Number Three.')\n",
        "        elif predicted_label=='4':\n",
        "          print('This is Number Four.')\n",
        "        elif predicted_label=='5':\n",
        "          print('This is Number Five.')\n",
        "\n",
        "        elif predicted_label=='6':\n",
        "          print('This is Number Six.')\n",
        "        elif predicted_label=='7':\n",
        "          print('This is Number Seven.')\n",
        "        elif predicted_label=='8':\n",
        "          print('This is Number Eight.')\n",
        "        elif predicted_label=='9':\n",
        "          print('This is Number Nine.')\n",
        "        elif predicted_label=='A':\n",
        "          print('This is Letter A.')\n",
        "        elif predicted_label=='B':\n",
        "          print('This is Letter B.')\n",
        "        elif predicted_label=='C':\n",
        "          print('This is Letter C.')\n",
        "        elif predicted_label=='D':\n",
        "          print('This is Letter D.')\n",
        "        elif predicted_label=='E':\n",
        "          print('This is Letter E.')\n",
        "        elif predicted_label=='F':\n",
        "          print('This is Letter F.')\n",
        "        elif predicted_label=='G':\n",
        "          print('This is Letter G.')\n",
        "\n",
        "        elif predicted_label=='H':\n",
        "          print('This is Letter H.')\n",
        "        elif predicted_label=='I':\n",
        "          print('This is Letter I.')\n",
        "        elif predicted_label=='J':\n",
        "          print('This is Letter J.')\n",
        "        elif predicted_label=='K':\n",
        "          print('This is Letter K.')\n",
        "        elif predicted_label=='L':\n",
        "          print('This is Letter L.')\n",
        "        elif predicted_label=='M':\n",
        "          print('This is Letter M.')\n",
        "        elif predicted_label=='N':\n",
        "          print('This is Letter N.')\n",
        "        elif predicted_label=='O':\n",
        "          print('This is Letter O.')\n",
        "        elif predicted_label=='P':\n",
        "          print('This is Letter P.')\n",
        "\n",
        "        elif predicted_label=='Q':\n",
        "          print('This is Letter Q.')\n",
        "        elif predicted_label=='R':\n",
        "          print('This is Letter R.')\n",
        "        elif predicted_label=='S':\n",
        "          print('This is Letter S.')\n",
        "\n",
        "        elif predicted_label=='T':\n",
        "          print('This is Letter T.')\n",
        "        elif predicted_label=='U':\n",
        "          print('This is Letter U.')\n",
        "        elif predicted_label=='V':\n",
        "          print('This is Letter V.')\n",
        "\n",
        "        elif predicted_label=='W':\n",
        "          print('This is Letter W.')\n",
        "        elif predicted_label=='X':\n",
        "          print('This is Letter X.')\n",
        "        elif predicted_label=='Y':\n",
        "          print('This is Letter Y.')\n",
        "        elif predicted_label=='Z':\n",
        "          print('This is Letter Z.')\n",
        "\n",
        "        else:\n",
        "          print('Sign Not Detected')"
      ]
    },
    {
      "cell_type": "code",
      "execution_count": 25,
      "metadata": {
        "id": "LkF2-vcXS7MK",
        "colab": {
          "base_uri": "https://localhost:8080/",
          "height": 714,
          "referenced_widgets": [
            "8ee1341079764e02b25ad43e8f3b4005",
            "a0f133d5d5ee4c04bfc197dcc0572fe9",
            "8f6327803a0043bc96094902efd22139",
            "060b44e7a3944975aa0d088c12d609bb",
            "cee65fc4f5524342a1ba8825f0c500de",
            "725b5580b4954cbf973c93448461eb4f",
            "e9bd0419f7b74c5690c75a1d49ed93bb",
            "cd65b850b65747b6b5bce9380de6a248"
          ]
        },
        "outputId": "3c4bfb6f-42b4-40c9-c781-c6df41efc352"
      },
      "outputs": [
        {
          "output_type": "display_data",
          "data": {
            "text/plain": [
              "<IPython.core.display.Markdown object>"
            ],
            "text/markdown": "# Uuma: The ISL Predictor"
          },
          "metadata": {}
        },
        {
          "output_type": "display_data",
          "data": {
            "text/plain": [
              "<IPython.core.display.Markdown object>"
            ],
            "text/markdown": "## Please upload the hand sign image using the upload button"
          },
          "metadata": {}
        },
        {
          "output_type": "display_data",
          "data": {
            "text/plain": [
              "FileUpload(value={}, description='Upload Sign Image')"
            ],
            "application/vnd.jupyter.widget-view+json": {
              "version_major": 2,
              "version_minor": 0,
              "model_id": "8ee1341079764e02b25ad43e8f3b4005"
            }
          },
          "metadata": {}
        },
        {
          "output_type": "display_data",
          "data": {
            "text/plain": [
              "<IPython.core.display.Markdown object>"
            ],
            "text/markdown": "## Please click on the submit button"
          },
          "metadata": {}
        },
        {
          "output_type": "display_data",
          "data": {
            "text/plain": [
              "Button(description='Check', style=ButtonStyle())"
            ],
            "application/vnd.jupyter.widget-view+json": {
              "version_major": 2,
              "version_minor": 0,
              "model_id": "060b44e7a3944975aa0d088c12d609bb"
            }
          },
          "metadata": {}
        },
        {
          "output_type": "display_data",
          "data": {
            "text/plain": [
              "Output()"
            ],
            "application/vnd.jupyter.widget-view+json": {
              "version_major": 2,
              "version_minor": 0,
              "model_id": "e9bd0419f7b74c5690c75a1d49ed93bb"
            }
          },
          "metadata": {}
        },
        {
          "output_type": "display_data",
          "data": {
            "text/plain": [
              "<Figure size 640x480 with 1 Axes>"
            ],
            "image/png": "[encoded data removed]"
          },
          "metadata": {}
        }
      ],
      "source": [
        "# Assign event handler to the submit button\n",
        "submit_button.on_click(on_submit_button_click)\n",
        "\n",
        "# Display UI elements\n",
        "display(project_name)\n",
        "display(up_btn)\n",
        "display(upload_button)\n",
        "display(cl_btn)\n",
        "display(submit_button)\n",
        "display(output)"
      ]
    }
  ],
  "metadata": {
    "accelerator": "GPU",
    "colab": {
      "gpuType": "T4",
      "provenance": []
    },
    "kernelspec": {
      "display_name": "Python 3",
      "name": "python3"
    },
    "language_info": {
      "name": "python"
    },
    "widgets": {
      "application/vnd.jupyter.widget-state+json": {
        "8ee1341079764e02b25ad43e8f3b4005": {
          "model_module": "@jupyter-widgets/controls",
          "model_name": "FileUploadModel",
          "model_module_version": "1.5.0",
          "state": {
            "_counter": 1,
            "_dom_classes": [],
            "_model_module": "@jupyter-widgets/controls",
            "_model_module_version": "1.5.0",
            "_model_name": "FileUploadModel",
            "_view_count": null,
            "_view_module": "@jupyter-widgets/controls",
            "_view_module_version": "1.5.0",
            "_view_name": "FileUploadView",
            "accept": "",
            "button_style": "",
            "data": [
              null
            ],
            "description": "Upload Sign Image",
            "description_tooltip": null,
            "disabled": false,
            "error": "",
            "icon": "upload",
            "layout": "IPY_MODEL_a0f133d5d5ee4c04bfc197dcc0572fe9",
            "metadata": [
              {
                "name": "0.jpg",
                "type": "image/jpeg",
                "size": 5853,
                "lastModified": 1713543385649
              }
            ],
            "multiple": false,
            "style": "IPY_MODEL_8f6327803a0043bc96094902efd22139"
          }
        },
        "a0f133d5d5ee4c04bfc197dcc0572fe9": {
          "model_module": "@jupyter-widgets/base",
          "model_name": "LayoutModel",
          "model_module_version": "1.2.0",
          "state": {
            "_model_module": "@jupyter-widgets/base",
            "_model_module_version": "1.2.0",
            "_model_name": "LayoutModel",
            "_view_count": null,
            "_view_module": "@jupyter-widgets/base",
            "_view_module_version": "1.2.0",
            "_view_name": "LayoutView",
            "align_content": null,
            "align_items": null,
            "align_self": null,
            "border": null,
            "bottom": null,
            "display": null,
            "flex": null,
            "flex_flow": null,
            "grid_area": null,
            "grid_auto_columns": null,
            "grid_auto_flow": null,
            "grid_auto_rows": null,
            "grid_column": null,
            "grid_gap": null,
            "grid_row": null,
            "grid_template_areas": null,
            "grid_template_columns": null,
            "grid_template_rows": null,
            "height": null,
            "justify_content": null,
            "justify_items": null,
            "left": null,
            "margin": null,
            "max_height": null,
            "max_width": null,
            "min_height": null,
            "min_width": null,
            "object_fit": null,
            "object_position": null,
            "order": null,
            "overflow": null,
            "overflow_x": null,
            "overflow_y": null,
            "padding": null,
            "right": null,
            "top": null,
            "visibility": null,
            "width": null
          }
        },
        "8f6327803a0043bc96094902efd22139": {
          "model_module": "@jupyter-widgets/controls",
          "model_name": "ButtonStyleModel",
          "model_module_version": "1.5.0",
          "state": {
            "_model_module": "@jupyter-widgets/controls",
            "_model_module_version": "1.5.0",
            "_model_name": "ButtonStyleModel",
            "_view_count": null,
            "_view_module": "@jupyter-widgets/base",
            "_view_module_version": "1.2.0",
            "_view_name": "StyleView",
            "button_color": null,
            "font_weight": ""
          }
        },
        "060b44e7a3944975aa0d088c12d609bb": {
          "model_module": "@jupyter-widgets/controls",
          "model_name": "ButtonModel",
          "model_module_version": "1.5.0",
          "state": {
            "_dom_classes": [],
            "_model_module": "@jupyter-widgets/controls",
            "_model_module_version": "1.5.0",
            "_model_name": "ButtonModel",
            "_view_count": null,
            "_view_module": "@jupyter-widgets/controls",
            "_view_module_version": "1.5.0",
            "_view_name": "ButtonView",
            "button_style": "",
            "description": "Check",
            "disabled": false,
            "icon": "",
            "layout": "IPY_MODEL_cee65fc4f5524342a1ba8825f0c500de",
            "style": "IPY_MODEL_725b5580b4954cbf973c93448461eb4f",
            "tooltip": ""
          }
        },
        "cee65fc4f5524342a1ba8825f0c500de": {
          "model_module": "@jupyter-widgets/base",
          "model_name": "LayoutModel",
          "model_module_version": "1.2.0",
          "state": {
            "_model_module": "@jupyter-widgets/base",
            "_model_module_version": "1.2.0",
            "_model_name": "LayoutModel",
            "_view_count": null,
            "_view_module": "@jupyter-widgets/base",
            "_view_module_version": "1.2.0",
            "_view_name": "LayoutView",
            "align_content": null,
            "align_items": null,
            "align_self": null,
            "border": null,
            "bottom": null,
            "display": null,
            "flex": null,
            "flex_flow": null,
            "grid_area": null,
            "grid_auto_columns": null,
            "grid_auto_flow": null,
            "grid_auto_rows": null,
            "grid_column": null,
            "grid_gap": null,
            "grid_row": null,
            "grid_template_areas": null,
            "grid_template_columns": null,
            "grid_template_rows": null,
            "height": null,
            "justify_content": null,
            "justify_items": null,
            "left": null,
            "margin": null,
            "max_height": null,
            "max_width": null,
            "min_height": null,
            "min_width": null,
            "object_fit": null,
            "object_position": null,
            "order": null,
            "overflow": null,
            "overflow_x": null,
            "overflow_y": null,
            "padding": null,
            "right": null,
            "top": null,
            "visibility": null,
            "width": null
          }
        },
        "725b5580b4954cbf973c93448461eb4f": {
          "model_module": "@jupyter-widgets/controls",
          "model_name": "ButtonStyleModel",
          "model_module_version": "1.5.0",
          "state": {
            "_model_module": "@jupyter-widgets/controls",
            "_model_module_version": "1.5.0",
            "_model_name": "ButtonStyleModel",
            "_view_count": null,
            "_view_module": "@jupyter-widgets/base",
            "_view_module_version": "1.2.0",
            "_view_name": "StyleView",
            "button_color": null,
            "font_weight": ""
          }
        },
        "e9bd0419f7b74c5690c75a1d49ed93bb": {
          "model_module": "@jupyter-widgets/output",
          "model_name": "OutputModel",
          "model_module_version": "1.0.0",
          "state": {
            "_dom_classes": [],
            "_model_module": "@jupyter-widgets/output",
            "_model_module_version": "1.0.0",
            "_model_name": "OutputModel",
            "_view_count": null,
            "_view_module": "@jupyter-widgets/output",
            "_view_module_version": "1.0.0",
            "_view_name": "OutputView",
            "layout": "IPY_MODEL_cd65b850b65747b6b5bce9380de6a248",
            "msg_id": "",
            "outputs": [
              {
                "output_type": "stream",
                "name": "stdout",
                "text": [
                  "\r1/1 [==============================] - ETA: 0s"
                ]
              },
              {
                "output_type": "stream",
                "name": "stdout",
                "text": [
                  "\b\b\b\b\b\b\b\b\b\b\b\b\b\b\b\b\b\b\b\b\b\b\b\b\b\b\b\b\b\b\b\b\b\b\b\b\b\b\b\b\b\b\b\b\b\b\r1/1 [==============================] - 0s 19ms/step\n"
                ]
              },
              {
                "output_type": "stream",
                "name": "stdout",
                "text": [
                  "Predicted label: 1\n",
                  "This is Number One.\n"
                ]
              }
            ]
          }
        },
        "cd65b850b65747b6b5bce9380de6a248": {
          "model_module": "@jupyter-widgets/base",
          "model_name": "LayoutModel",
          "model_module_version": "1.2.0",
          "state": {
            "_model_module": "@jupyter-widgets/base",
            "_model_module_version": "1.2.0",
            "_model_name": "LayoutModel",
            "_view_count": null,
            "_view_module": "@jupyter-widgets/base",
            "_view_module_version": "1.2.0",
            "_view_name": "LayoutView",
            "align_content": null,
            "align_items": null,
            "align_self": null,
            "border": null,
            "bottom": null,
            "display": null,
            "flex": null,
            "flex_flow": null,
            "grid_area": null,
            "grid_auto_columns": null,
            "grid_auto_flow": null,
            "grid_auto_rows": null,
            "grid_column": null,
            "grid_gap": null,
            "grid_row": null,
            "grid_template_areas": null,
            "grid_template_columns": null,
            "grid_template_rows": null,
            "height": null,
            "justify_content": null,
            "justify_items": null,
            "left": null,
            "margin": null,
            "max_height": null,
            "max_width": null,
            "min_height": null,
            "min_width": null,
            "object_fit": null,
            "object_position": null,
            "order": null,
            "overflow": null,
            "overflow_x": null,
            "overflow_y": null,
            "padding": null,
            "right": null,
            "top": null,
            "visibility": null,
            "width": null
          }
        }
      }
    }
  },
  "nbformat": 4,
  "nbformat_minor": 0
}